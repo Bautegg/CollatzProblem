{
 "cells": [
  {
   "cell_type": "code",
   "execution_count": 3,
   "id": "47a9ba66-771d-469e-8c42-438150eacb1a",
   "metadata": {
    "tags": []
   },
   "outputs": [],
   "source": [
    "col_str = 'freq,reporter,partner,product,flow,indicators\\TIME_PERIOD\t2020 \t2021 \t2021-01 \t2021-02 \t2021-03 \t2021-04 \t2021-05 \t2021-06 \t2021-07 \t2021-08 \t2021-09 \t2021-10 \t2021-11 \t2021-12 \t2022 \t2022-01 \t2022-02 \t2022-03 \t2022-04 \t2022-05 \t2022-06 \t2022-07 \t2022-08 \t2022-09 \t2022-10 \t2022-11 \t2022-12 \t2023-01 \t2023-02 \t2023-03 \t2023-04 \t2023-05 \t2023-06'\n",
    "delimiter = '\\t'\n",
    "col_list = col_str.split(delimiter)"
   ]
  },
  {
   "cell_type": "code",
   "execution_count": 5,
   "id": "5f6de487-7bbe-4603-927f-b85f563c743a",
   "metadata": {
    "tags": []
   },
   "outputs": [
    {
     "name": "stdout",
     "output_type": "stream",
     "text": [
      "['freq,reporter,partner,product,flow,indicators\\\\TIME_PERIOD', '2020 ', '2021 ', '2021-01 ', '2021-02 ', '2021-03 ', '2021-04 ', '2021-05 ', '2021-06 ', '2021-07 ', '2021-08 ', '2021-09 ', '2021-10 ', '2021-11 ', '2021-12 ', '2022 ', '2022-01 ', '2022-02 ', '2022-03 ', '2022-04 ', '2022-05 ', '2022-06 ', '2022-07 ', '2022-08 ', '2022-09 ', '2022-10 ', '2022-11 ', '2022-12 ', '2023-01 ', '2023-02 ', '2023-03 ', '2023-04 ', '2023-05 ', '2023-06']\n"
     ]
    }
   ],
   "source": [
    "print(col_list)"
   ]
  },
  {
   "cell_type": "code",
   "execution_count": null,
   "id": "8c932e2b-352f-4ac2-a24c-64199e7affb1",
   "metadata": {},
   "outputs": [],
   "source": []
  },
  {
   "cell_type": "code",
   "execution_count": null,
   "id": "a1d78e1c-4109-4867-be4f-44e05ec35090",
   "metadata": {},
   "outputs": [],
   "source": []
  },
  {
   "cell_type": "code",
   "execution_count": null,
   "id": "e5001106-e060-48ee-8bb7-4876474b06ed",
   "metadata": {},
   "outputs": [],
   "source": []
  },
  {
   "cell_type": "code",
   "execution_count": null,
   "id": "17ed44f6-214a-4189-b289-062f1dfaf40e",
   "metadata": {},
   "outputs": [],
   "source": []
  }
 ],
 "metadata": {
  "kernelspec": {
   "display_name": "Python 3 (ipykernel)",
   "language": "python",
   "name": "python3"
  },
  "language_info": {
   "codemirror_mode": {
    "name": "ipython",
    "version": 3
   },
   "file_extension": ".py",
   "mimetype": "text/x-python",
   "name": "python",
   "nbconvert_exporter": "python",
   "pygments_lexer": "ipython3",
   "version": "3.11.4"
  }
 },
 "nbformat": 4,
 "nbformat_minor": 5
}
